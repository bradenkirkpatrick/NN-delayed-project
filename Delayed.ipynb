{
  "cells": [
    {
      "cell_type": "markdown",
      "metadata": {
        "colab_type": "text",
        "id": "zqJqmZ_GHf63"
      },
      "source": [
        "# Will it be delayed?\n",
        "\n",
        "Everyone who has flown has experienced a delayed or cancelled flight. Both airlines and airports would like to improve their on-time performance and predict when a flight will be delayed or cancelled several days in advance. You are being hired to build a model that can predict if a flight will be delayed. To learn more, you must schedule a meeting with your client (me). To schedule an appointment with your client, send an event request through Google Calendar for a 15 minute meeting. Both you and your project partner must attend the meeting. Come prepared with questions to ask your client. Remember that your client is not a data scientist and you will need to explain things in a way that is easy to understand. Make sure that your communications are efficient, thought out, and not redundant as your client might get frustrated and \"fire\" you (this only applies to getting information from your client, this does not necessary apply to asking for help with the actual project itself - you should continuously ask questions for getting help).\n",
        "\n",
        "For this project you must go through most all steps in the checklist. You must write responses for all items as done in the homeworks, however sometimes the item will simply be \"does not apply\". Keep your progress and thoughts organized in this document and use formatting as appropriate (using markdown to add headers and sub-headers for each major part). Some changes to the checklist:\n",
        "\n",
        "* Do not do the final part (launching the product).\n",
        "* Your presentation will be done as information written in this document in a dedicated section (no slides or anything like that). It should include high-level summary of your results (including what you learned about the data, the \"accuracy\" of your model, what features were important, etc). It should be written for your client, not your professor or teammates. It should include the best summary plots/graphics/data points.\n",
        "* The models and hyperparameters you should consider during short-listing and fine-tuning will be released at a later time (dependent on how far we get over the next two weeks).\n",
        "* Data retrieval must be automatic as part of the code (so it can easily be re-run and grab the latest data). Do not commit any data to the repository.\n",
        "* Your submission must include a pickled final model along with this notebook."
      ]
    },
    {
      "cell_type": "markdown",
      "metadata": {},
      "source": [
        "# Frame The Problem"
      ]
    },
    {
      "cell_type": "markdown",
      "metadata": {},
      "source": [
        "1. **Define the objective in business terms.**\n",
        "- The objective is to predict if a flight will be delayed or cancelled seven days in advance whether that be due to weather, mechanical issues, or other reasons. This will allow airlines and airports to better plan for the future and roll out delay or cancellation alerts to passengers more efficiently.\n",
        "2. **How will your solution be used?**\n",
        "- Our solution will be used to predict if a flight will be delayed or cancelled seven days in advance. This will allow airlines and airports to better plan for the future and roll out delay or cancellation alerts to passengers more efficiently.\n",
        "3. **What are the current solutions/workarounds (if any)?**\n",
        "- Currently, airlines and airports do not have a way to predict if a flight will be delayed or cancelled seven days in advance. They can only predict if a flight will be delayed or cancelled a few hours in advance.\n",
        "4. **How should you frame this problem (supervised/unsupervised, online/offline, ...)?**\n",
        "- This problem should be framed as a supervised learning problem. We will use historical data to predict if a flight will be delayed or cancelled seven days in advance. We will use a batch learning system to train the model as the system will be updated quarterly.\n",
        "5. **How should performance be measured? Is the performance measure aligned with the business objective?**\n",
        "- Performance should be measured using the precision score. As the client stated they would like to accurately predict if a flight will be delayed or cancelled seven days in advance as to not inconvenience or frustrate passengers. The precision score is aligned with the business objective as it measures the number of actual positive cases that were correctly predicted as positive. To mitigate the risk of false positives, the precision score will be used as it aligns with the business objective and the client's needs.\n",
        "6. **What would be the minimum performance needed to reach the business objective?**\n",
        "- As per the client the minimum peroformance needed to reach the business objective is 25%. As they currently do not have a way to predict if a flight will be delayed or cancelled seven days in advance, any improvement on the current system would be beneficial.\n",
        "7. **What are comparable problems? Can you reuse experience or tools?**\n",
        "- A comparable problem I have worked with was in the AWS machine learning challenge lab where the mock client wanted to create a feature to let customers know if the flight will be delayed because of weather when they book a flight to or from the busiest airports for domestic travel in the US.\n",
        "- There are tools and experience that can be reused that I have used in past homework assignments as well as the methods used in the AWS machine learning challenge lab to analyze the data.\n",
        "8. **Is human expertise available?**\n",
        "- No, human expertise is not available as the client is knowledgeable about the problem but does not thoroughly know the data being provided. But, my professor is knowledgeable in this area and can provide guidance and help if needed.\n",
        "9. **How would you solve the problem manually?**\n",
        "- To solve the problem manually, I would look at the historical data and see if there are any patterns or trends that can be used to predict if a flight will be delayed or cancelled seven days in advance. Finding as many patterns or trends as possible would be beneficial to predict if a flight will be delayed or cancelled as there could be multiple reasons why a flight would be delayed or cancelled. Although, it must be noted that real-time issues such as mechanical issues or staffing issus would be impossible to predict in advance. Although, a general trend could be found to imply a potential delay or cancellation due to these issues.\n",
        "10. **List the assumptions you (or others) have made so far. Verify assumptions if possible.**"
      ]
    },
    {
      "cell_type": "markdown",
      "metadata": {},
      "source": [
        "- bureau of transportation statistics\n",
        "- carrier issues \n",
        "- extreme weather\n",
        "- airport wind issues\n",
        "- security or tsa\n",
        "- late arrival (delay only)\n",
        "* holidays\n",
        "* weather\n",
        "* don't consider diverted flight data\n",
        "- no international fights\n",
        "- size of airlines\n",
        "- small airlines important\n",
        "- make sure air crafts of an N to start the planes id\n",
        "- seasonal and holiday travel"
      ]
    },
    {
      "cell_type": "code",
      "execution_count": 78,
      "metadata": {},
      "outputs": [],
      "source": [
        "import requests\n",
        "from bs4 import BeautifulSoup\n",
        "import pandas as pd\n",
        "import zipfile\n",
        "import shutil\n",
        "import os\n",
        "import seaborn"
      ]
    },
    {
      "cell_type": "code",
      "execution_count": 79,
      "metadata": {},
      "outputs": [],
      "source": [
        "# aircraft data read csv\n",
        "def read_aircraft_data():\n",
        "    return pd.read_csv('aircrafts.csv')\n",
        "\n",
        "# get the el nino data\n",
        "def get_el_nino_data():\n",
        "    url = 'https://psl.noaa.gov/data/correlation/nina4.data'\n",
        "    response = requests.get(url)\n",
        "    soup = BeautifulSoup(response.text, 'html.parser')\n",
        "    data = soup.text.split('\\n')\n",
        "    data = data[3:-4]\n",
        "    data = [i.split() for i in data]\n",
        "    df = pd.DataFrame(data, columns=['Year', 'Jan', 'Feb', 'Mar', 'Apr', 'May', 'Jun', 'Jul', 'Aug', 'Sep', 'Oct', 'Nov', 'Dec'])\n",
        "    df = df.replace('-99.99', 'NaN')\n",
        "    df.to_csv('nina4.csv', index=False)\n",
        "    return pd.read_csv('elnino.csv')\n",
        "    \n",
        "# read the data https://www.transtats.bts.gov/DL_SelectFields.aspx?gnoyr_VQ=FIM&QO_fu146_anzr=Nv4+Pn44vr45\n",
        "def read_data(): \n",
        "    for file in os.listdir('DL_SelectFields'):\n",
        "        if file.endswith('.zip'):\n",
        "            with zipfile.ZipFile('DL_SelectFields/'+file, 'r') as zip_ref:\n",
        "                zip_ref.extractall('DL_SelectFields')\n",
        "            shutil.move('DL_SelectFields/T_T100D_SEGMENT_US_CARRIER_ONLY.csv', 'flight_years/'+file[:-4]+'.csv')\n",
        "    years = list(range(2))\n",
        "    for year in range(2):\n",
        "        years[year] = pd.read_csv(f'flight_years/DL_SelectFields_{2023+year}.csv')\n",
        "    return pd.concat(years)"
      ]
    },
    {
      "cell_type": "code",
      "execution_count": 80,
      "metadata": {},
      "outputs": [
        {
          "name": "stderr",
          "output_type": "stream",
          "text": [
            "/var/folders/2x/l1xq08kx17d7cfwdxb2by1lh0000gn/T/ipykernel_55235/2186708021.py:27: DtypeWarning: Columns (13) have mixed types. Specify dtype option on import or set low_memory=False.\n",
            "  years[year] = pd.read_csv(f'flight_years/DL_SelectFields_{2023+year}.csv')\n",
            "/var/folders/2x/l1xq08kx17d7cfwdxb2by1lh0000gn/T/ipykernel_55235/2186708021.py:27: DtypeWarning: Columns (13) have mixed types. Specify dtype option on import or set low_memory=False.\n",
            "  years[year] = pd.read_csv(f'flight_years/DL_SelectFields_{2023+year}.csv')\n"
          ]
        },
        {
          "data": {
            "application/vnd.microsoft.datawrangler.viewer.v0+json": {
              "columns": [
                {
                  "name": "index",
                  "rawType": "int64",
                  "type": "integer"
                },
                {
                  "name": "DEPARTURES_SCHEDULED",
                  "rawType": "float64",
                  "type": "float"
                },
                {
                  "name": "DEPARTURES_PERFORMED",
                  "rawType": "float64",
                  "type": "float"
                },
                {
                  "name": "PAYLOAD",
                  "rawType": "float64",
                  "type": "float"
                },
                {
                  "name": "SEATS",
                  "rawType": "float64",
                  "type": "float"
                },
                {
                  "name": "PASSENGERS",
                  "rawType": "float64",
                  "type": "float"
                },
                {
                  "name": "FREIGHT",
                  "rawType": "float64",
                  "type": "float"
                },
                {
                  "name": "MAIL",
                  "rawType": "float64",
                  "type": "float"
                },
                {
                  "name": "DISTANCE",
                  "rawType": "float64",
                  "type": "float"
                },
                {
                  "name": "RAMP_TO_RAMP",
                  "rawType": "float64",
                  "type": "float"
                },
                {
                  "name": "AIR_TIME",
                  "rawType": "float64",
                  "type": "float"
                },
                {
                  "name": "UNIQUE_CARRIER",
                  "rawType": "object",
                  "type": "string"
                },
                {
                  "name": "AIRLINE_ID",
                  "rawType": "int64",
                  "type": "integer"
                },
                {
                  "name": "UNIQUE_CARRIER_NAME",
                  "rawType": "object",
                  "type": "string"
                },
                {
                  "name": "UNIQUE_CARRIER_ENTITY",
                  "rawType": "object",
                  "type": "unknown"
                },
                {
                  "name": "REGION",
                  "rawType": "object",
                  "type": "string"
                },
                {
                  "name": "CARRIER",
                  "rawType": "object",
                  "type": "string"
                },
                {
                  "name": "CARRIER_NAME",
                  "rawType": "object",
                  "type": "string"
                },
                {
                  "name": "CARRIER_GROUP",
                  "rawType": "int64",
                  "type": "integer"
                },
                {
                  "name": "CARRIER_GROUP_NEW",
                  "rawType": "int64",
                  "type": "integer"
                },
                {
                  "name": "ORIGIN_AIRPORT_ID",
                  "rawType": "int64",
                  "type": "integer"
                },
                {
                  "name": "ORIGIN_AIRPORT_SEQ_ID",
                  "rawType": "int64",
                  "type": "integer"
                },
                {
                  "name": "ORIGIN_CITY_MARKET_ID",
                  "rawType": "int64",
                  "type": "integer"
                },
                {
                  "name": "ORIGIN",
                  "rawType": "object",
                  "type": "string"
                },
                {
                  "name": "ORIGIN_CITY_NAME",
                  "rawType": "object",
                  "type": "string"
                },
                {
                  "name": "ORIGIN_STATE_ABR",
                  "rawType": "object",
                  "type": "string"
                },
                {
                  "name": "ORIGIN_STATE_FIPS",
                  "rawType": "int64",
                  "type": "integer"
                },
                {
                  "name": "ORIGIN_STATE_NM",
                  "rawType": "object",
                  "type": "string"
                },
                {
                  "name": "ORIGIN_WAC",
                  "rawType": "int64",
                  "type": "integer"
                },
                {
                  "name": "DEST_AIRPORT_ID",
                  "rawType": "int64",
                  "type": "integer"
                },
                {
                  "name": "DEST_AIRPORT_SEQ_ID",
                  "rawType": "int64",
                  "type": "integer"
                },
                {
                  "name": "DEST_CITY_MARKET_ID",
                  "rawType": "int64",
                  "type": "integer"
                },
                {
                  "name": "DEST",
                  "rawType": "object",
                  "type": "string"
                },
                {
                  "name": "DEST_CITY_NAME",
                  "rawType": "object",
                  "type": "string"
                },
                {
                  "name": "DEST_STATE_ABR",
                  "rawType": "object",
                  "type": "string"
                },
                {
                  "name": "DEST_STATE_FIPS",
                  "rawType": "int64",
                  "type": "integer"
                },
                {
                  "name": "DEST_STATE_NM",
                  "rawType": "object",
                  "type": "string"
                },
                {
                  "name": "DEST_WAC",
                  "rawType": "int64",
                  "type": "integer"
                },
                {
                  "name": "AIRCRAFT_GROUP",
                  "rawType": "int64",
                  "type": "integer"
                },
                {
                  "name": "AIRCRAFT_TYPE",
                  "rawType": "int64",
                  "type": "integer"
                },
                {
                  "name": "AIRCRAFT_CONFIG",
                  "rawType": "int64",
                  "type": "integer"
                },
                {
                  "name": "YEAR",
                  "rawType": "int64",
                  "type": "integer"
                },
                {
                  "name": "QUARTER",
                  "rawType": "int64",
                  "type": "integer"
                },
                {
                  "name": "MONTH",
                  "rawType": "int64",
                  "type": "integer"
                },
                {
                  "name": "DISTANCE_GROUP",
                  "rawType": "int64",
                  "type": "integer"
                },
                {
                  "name": "CLASS",
                  "rawType": "object",
                  "type": "string"
                }
              ],
              "conversionMethod": "pd.DataFrame",
              "ref": "5b98ecd5-6437-4510-bf83-add668991e60",
              "rows": [
                [
                  "0",
                  "0.0",
                  "0.0",
                  "0.0",
                  "0.0",
                  "0.0",
                  "0.0",
                  "0.0",
                  "0.0",
                  "0.0",
                  "0.0",
                  "M6",
                  "20151",
                  "Amerijet International",
                  "6052",
                  "D",
                  "M6",
                  "Amerijet International",
                  "2",
                  "2",
                  "14100",
                  "1410005",
                  "34100",
                  "PHL",
                  "Philadelphia, PA",
                  "PA",
                  "42",
                  "Pennsylvania",
                  "23",
                  "14100",
                  "1410005",
                  "34100",
                  "PHL",
                  "Philadelphia, PA",
                  "PA",
                  "42",
                  "Pennsylvania",
                  "23",
                  "6",
                  "626",
                  "2",
                  "2023",
                  "3",
                  "8",
                  "1",
                  "G"
                ],
                [
                  "1",
                  "0.0",
                  "0.0",
                  "0.0",
                  "0.0",
                  "0.0",
                  "0.0",
                  "0.0",
                  "16.0",
                  "0.0",
                  "0.0",
                  "DL",
                  "19790",
                  "Delta Air Lines Inc.",
                  "1260",
                  "D",
                  "DL",
                  "Delta Air Lines Inc.",
                  "3",
                  "3",
                  "10540",
                  "1054005",
                  "30540",
                  "BED",
                  "Bedford, MA",
                  "MA",
                  "25",
                  "Massachusetts",
                  "13",
                  "10721",
                  "1072102",
                  "30721",
                  "BOS",
                  "Boston, MA",
                  "MA",
                  "25",
                  "Massachusetts",
                  "13",
                  "6",
                  "622",
                  "1",
                  "2023",
                  "4",
                  "10",
                  "1",
                  "L"
                ],
                [
                  "2",
                  "0.0",
                  "0.0",
                  "0.0",
                  "0.0",
                  "0.0",
                  "0.0",
                  "0.0",
                  "17.0",
                  "0.0",
                  "0.0",
                  "DL",
                  "19790",
                  "Delta Air Lines Inc.",
                  "1260",
                  "D",
                  "DL",
                  "Delta Air Lines Inc.",
                  "3",
                  "3",
                  "12954",
                  "1295407",
                  "32575",
                  "LGB",
                  "Long Beach, CA",
                  "CA",
                  "6",
                  "California",
                  "91",
                  "12892",
                  "1289208",
                  "32575",
                  "LAX",
                  "Los Angeles, CA",
                  "CA",
                  "6",
                  "California",
                  "91",
                  "6",
                  "622",
                  "1",
                  "2023",
                  "4",
                  "10",
                  "1",
                  "L"
                ],
                [
                  "3",
                  "0.0",
                  "0.0",
                  "0.0",
                  "0.0",
                  "0.0",
                  "0.0",
                  "0.0",
                  "17.0",
                  "0.0",
                  "0.0",
                  "NEW",
                  "20273",
                  "New England Airlines Inc.",
                  "6924",
                  "D",
                  "NEW",
                  "New England Airlines Inc.",
                  "1",
                  "6",
                  "10613",
                  "1061302",
                  "30613",
                  "BID",
                  "Block Island, RI",
                  "RI",
                  "44",
                  "Rhode Island",
                  "15",
                  "15855",
                  "1585502",
                  "35855",
                  "WST",
                  "Westerly, RI",
                  "RI",
                  "44",
                  "Rhode Island",
                  "15",
                  "0",
                  "79",
                  "1",
                  "2023",
                  "1",
                  "1",
                  "1",
                  "F"
                ],
                [
                  "4",
                  "0.0",
                  "0.0",
                  "0.0",
                  "0.0",
                  "0.0",
                  "0.0",
                  "0.0",
                  "17.0",
                  "0.0",
                  "0.0",
                  "NEW",
                  "20273",
                  "New England Airlines Inc.",
                  "6924",
                  "D",
                  "NEW",
                  "New England Airlines Inc.",
                  "1",
                  "6",
                  "10613",
                  "1061302",
                  "30613",
                  "BID",
                  "Block Island, RI",
                  "RI",
                  "44",
                  "Rhode Island",
                  "15",
                  "15855",
                  "1585502",
                  "35855",
                  "WST",
                  "Westerly, RI",
                  "RI",
                  "44",
                  "Rhode Island",
                  "15",
                  "0",
                  "79",
                  "1",
                  "2023",
                  "2",
                  "5",
                  "1",
                  "F"
                ]
              ],
              "shape": {
                "columns": 45,
                "rows": 5
              }
            },
            "text/html": [
              "<div>\n",
              "<style scoped>\n",
              "    .dataframe tbody tr th:only-of-type {\n",
              "        vertical-align: middle;\n",
              "    }\n",
              "\n",
              "    .dataframe tbody tr th {\n",
              "        vertical-align: top;\n",
              "    }\n",
              "\n",
              "    .dataframe thead th {\n",
              "        text-align: right;\n",
              "    }\n",
              "</style>\n",
              "<table border=\"1\" class=\"dataframe\">\n",
              "  <thead>\n",
              "    <tr style=\"text-align: right;\">\n",
              "      <th></th>\n",
              "      <th>DEPARTURES_SCHEDULED</th>\n",
              "      <th>DEPARTURES_PERFORMED</th>\n",
              "      <th>PAYLOAD</th>\n",
              "      <th>SEATS</th>\n",
              "      <th>PASSENGERS</th>\n",
              "      <th>FREIGHT</th>\n",
              "      <th>MAIL</th>\n",
              "      <th>DISTANCE</th>\n",
              "      <th>RAMP_TO_RAMP</th>\n",
              "      <th>AIR_TIME</th>\n",
              "      <th>...</th>\n",
              "      <th>DEST_STATE_NM</th>\n",
              "      <th>DEST_WAC</th>\n",
              "      <th>AIRCRAFT_GROUP</th>\n",
              "      <th>AIRCRAFT_TYPE</th>\n",
              "      <th>AIRCRAFT_CONFIG</th>\n",
              "      <th>YEAR</th>\n",
              "      <th>QUARTER</th>\n",
              "      <th>MONTH</th>\n",
              "      <th>DISTANCE_GROUP</th>\n",
              "      <th>CLASS</th>\n",
              "    </tr>\n",
              "  </thead>\n",
              "  <tbody>\n",
              "    <tr>\n",
              "      <th>0</th>\n",
              "      <td>0.0</td>\n",
              "      <td>0.0</td>\n",
              "      <td>0.0</td>\n",
              "      <td>0.0</td>\n",
              "      <td>0.0</td>\n",
              "      <td>0.0</td>\n",
              "      <td>0.0</td>\n",
              "      <td>0.0</td>\n",
              "      <td>0.0</td>\n",
              "      <td>0.0</td>\n",
              "      <td>...</td>\n",
              "      <td>Pennsylvania</td>\n",
              "      <td>23</td>\n",
              "      <td>6</td>\n",
              "      <td>626</td>\n",
              "      <td>2</td>\n",
              "      <td>2023</td>\n",
              "      <td>3</td>\n",
              "      <td>8</td>\n",
              "      <td>1</td>\n",
              "      <td>G</td>\n",
              "    </tr>\n",
              "    <tr>\n",
              "      <th>1</th>\n",
              "      <td>0.0</td>\n",
              "      <td>0.0</td>\n",
              "      <td>0.0</td>\n",
              "      <td>0.0</td>\n",
              "      <td>0.0</td>\n",
              "      <td>0.0</td>\n",
              "      <td>0.0</td>\n",
              "      <td>16.0</td>\n",
              "      <td>0.0</td>\n",
              "      <td>0.0</td>\n",
              "      <td>...</td>\n",
              "      <td>Massachusetts</td>\n",
              "      <td>13</td>\n",
              "      <td>6</td>\n",
              "      <td>622</td>\n",
              "      <td>1</td>\n",
              "      <td>2023</td>\n",
              "      <td>4</td>\n",
              "      <td>10</td>\n",
              "      <td>1</td>\n",
              "      <td>L</td>\n",
              "    </tr>\n",
              "    <tr>\n",
              "      <th>2</th>\n",
              "      <td>0.0</td>\n",
              "      <td>0.0</td>\n",
              "      <td>0.0</td>\n",
              "      <td>0.0</td>\n",
              "      <td>0.0</td>\n",
              "      <td>0.0</td>\n",
              "      <td>0.0</td>\n",
              "      <td>17.0</td>\n",
              "      <td>0.0</td>\n",
              "      <td>0.0</td>\n",
              "      <td>...</td>\n",
              "      <td>California</td>\n",
              "      <td>91</td>\n",
              "      <td>6</td>\n",
              "      <td>622</td>\n",
              "      <td>1</td>\n",
              "      <td>2023</td>\n",
              "      <td>4</td>\n",
              "      <td>10</td>\n",
              "      <td>1</td>\n",
              "      <td>L</td>\n",
              "    </tr>\n",
              "    <tr>\n",
              "      <th>3</th>\n",
              "      <td>0.0</td>\n",
              "      <td>0.0</td>\n",
              "      <td>0.0</td>\n",
              "      <td>0.0</td>\n",
              "      <td>0.0</td>\n",
              "      <td>0.0</td>\n",
              "      <td>0.0</td>\n",
              "      <td>17.0</td>\n",
              "      <td>0.0</td>\n",
              "      <td>0.0</td>\n",
              "      <td>...</td>\n",
              "      <td>Rhode Island</td>\n",
              "      <td>15</td>\n",
              "      <td>0</td>\n",
              "      <td>79</td>\n",
              "      <td>1</td>\n",
              "      <td>2023</td>\n",
              "      <td>1</td>\n",
              "      <td>1</td>\n",
              "      <td>1</td>\n",
              "      <td>F</td>\n",
              "    </tr>\n",
              "    <tr>\n",
              "      <th>4</th>\n",
              "      <td>0.0</td>\n",
              "      <td>0.0</td>\n",
              "      <td>0.0</td>\n",
              "      <td>0.0</td>\n",
              "      <td>0.0</td>\n",
              "      <td>0.0</td>\n",
              "      <td>0.0</td>\n",
              "      <td>17.0</td>\n",
              "      <td>0.0</td>\n",
              "      <td>0.0</td>\n",
              "      <td>...</td>\n",
              "      <td>Rhode Island</td>\n",
              "      <td>15</td>\n",
              "      <td>0</td>\n",
              "      <td>79</td>\n",
              "      <td>1</td>\n",
              "      <td>2023</td>\n",
              "      <td>2</td>\n",
              "      <td>5</td>\n",
              "      <td>1</td>\n",
              "      <td>F</td>\n",
              "    </tr>\n",
              "  </tbody>\n",
              "</table>\n",
              "<p>5 rows × 45 columns</p>\n",
              "</div>"
            ],
            "text/plain": [
              "   DEPARTURES_SCHEDULED  DEPARTURES_PERFORMED  PAYLOAD  SEATS  PASSENGERS  \\\n",
              "0                   0.0                   0.0      0.0    0.0         0.0   \n",
              "1                   0.0                   0.0      0.0    0.0         0.0   \n",
              "2                   0.0                   0.0      0.0    0.0         0.0   \n",
              "3                   0.0                   0.0      0.0    0.0         0.0   \n",
              "4                   0.0                   0.0      0.0    0.0         0.0   \n",
              "\n",
              "   FREIGHT  MAIL  DISTANCE  RAMP_TO_RAMP  AIR_TIME  ...  DEST_STATE_NM  \\\n",
              "0      0.0   0.0       0.0           0.0       0.0  ...   Pennsylvania   \n",
              "1      0.0   0.0      16.0           0.0       0.0  ...  Massachusetts   \n",
              "2      0.0   0.0      17.0           0.0       0.0  ...     California   \n",
              "3      0.0   0.0      17.0           0.0       0.0  ...   Rhode Island   \n",
              "4      0.0   0.0      17.0           0.0       0.0  ...   Rhode Island   \n",
              "\n",
              "   DEST_WAC AIRCRAFT_GROUP AIRCRAFT_TYPE AIRCRAFT_CONFIG  YEAR QUARTER  MONTH  \\\n",
              "0        23              6           626               2  2023       3      8   \n",
              "1        13              6           622               1  2023       4     10   \n",
              "2        91              6           622               1  2023       4     10   \n",
              "3        15              0            79               1  2023       1      1   \n",
              "4        15              0            79               1  2023       2      5   \n",
              "\n",
              "   DISTANCE_GROUP  CLASS  \n",
              "0               1      G  \n",
              "1               1      L  \n",
              "2               1      L  \n",
              "3               1      F  \n",
              "4               1      F  \n",
              "\n",
              "[5 rows x 45 columns]"
            ]
          },
          "execution_count": 80,
          "metadata": {},
          "output_type": "execute_result"
        }
      ],
      "source": [
        "flight_data = read_data()\n",
        "flight_data.head()"
      ]
    },
    {
      "cell_type": "code",
      "execution_count": 81,
      "metadata": {},
      "outputs": [
        {
          "name": "stdout",
          "output_type": "stream",
          "text": [
            "<class 'pandas.core.frame.DataFrame'>\n",
            "Index: 861651 entries, 0 to 437314\n",
            "Data columns (total 45 columns):\n",
            " #   Column                 Non-Null Count   Dtype  \n",
            "---  ------                 --------------   -----  \n",
            " 0   DEPARTURES_SCHEDULED   861651 non-null  float64\n",
            " 1   DEPARTURES_PERFORMED   861651 non-null  float64\n",
            " 2   PAYLOAD                861651 non-null  float64\n",
            " 3   SEATS                  861651 non-null  float64\n",
            " 4   PASSENGERS             861651 non-null  float64\n",
            " 5   FREIGHT                861651 non-null  float64\n",
            " 6   MAIL                   861651 non-null  float64\n",
            " 7   DISTANCE               861651 non-null  float64\n",
            " 8   RAMP_TO_RAMP           861651 non-null  float64\n",
            " 9   AIR_TIME               861651 non-null  float64\n",
            " 10  UNIQUE_CARRIER         861651 non-null  object \n",
            " 11  AIRLINE_ID             861651 non-null  int64  \n",
            " 12  UNIQUE_CARRIER_NAME    861651 non-null  object \n",
            " 13  UNIQUE_CARRIER_ENTITY  861651 non-null  object \n",
            " 14  REGION                 861651 non-null  object \n",
            " 15  CARRIER                861651 non-null  object \n",
            " 16  CARRIER_NAME           861651 non-null  object \n",
            " 17  CARRIER_GROUP          861651 non-null  int64  \n",
            " 18  CARRIER_GROUP_NEW      861651 non-null  int64  \n",
            " 19  ORIGIN_AIRPORT_ID      861651 non-null  int64  \n",
            " 20  ORIGIN_AIRPORT_SEQ_ID  861651 non-null  int64  \n",
            " 21  ORIGIN_CITY_MARKET_ID  861651 non-null  int64  \n",
            " 22  ORIGIN                 861651 non-null  object \n",
            " 23  ORIGIN_CITY_NAME       861645 non-null  object \n",
            " 24  ORIGIN_STATE_ABR       861651 non-null  object \n",
            " 25  ORIGIN_STATE_FIPS      861651 non-null  int64  \n",
            " 26  ORIGIN_STATE_NM        861651 non-null  object \n",
            " 27  ORIGIN_WAC             861651 non-null  int64  \n",
            " 28  DEST_AIRPORT_ID        861651 non-null  int64  \n",
            " 29  DEST_AIRPORT_SEQ_ID    861651 non-null  int64  \n",
            " 30  DEST_CITY_MARKET_ID    861651 non-null  int64  \n",
            " 31  DEST                   861651 non-null  object \n",
            " 32  DEST_CITY_NAME         861645 non-null  object \n",
            " 33  DEST_STATE_ABR         861651 non-null  object \n",
            " 34  DEST_STATE_FIPS        861651 non-null  int64  \n",
            " 35  DEST_STATE_NM          861651 non-null  object \n",
            " 36  DEST_WAC               861651 non-null  int64  \n",
            " 37  AIRCRAFT_GROUP         861651 non-null  int64  \n",
            " 38  AIRCRAFT_TYPE          861651 non-null  int64  \n",
            " 39  AIRCRAFT_CONFIG        861651 non-null  int64  \n",
            " 40  YEAR                   861651 non-null  int64  \n",
            " 41  QUARTER                861651 non-null  int64  \n",
            " 42  MONTH                  861651 non-null  int64  \n",
            " 43  DISTANCE_GROUP         861651 non-null  int64  \n",
            " 44  CLASS                  861651 non-null  object \n",
            "dtypes: float64(10), int64(20), object(15)\n",
            "memory usage: 302.4+ MB\n"
          ]
        }
      ],
      "source": [
        "flight_data.info()"
      ]
    },
    {
      "cell_type": "code",
      "execution_count": 82,
      "metadata": {},
      "outputs": [
        {
          "data": {
            "text/plain": [
              "0.34422080652544396"
            ]
          },
          "execution_count": 82,
          "metadata": {},
          "output_type": "execute_result"
        }
      ],
      "source": [
        "\n",
        "corr_matrix = flight_data[[\"DISTANCE\", \"AIR_TIME\"]].corr()\n",
        "corr_matrix[\"AIR_TIME\"][\"DISTANCE\"]\n"
      ]
    },
    {
      "cell_type": "code",
      "execution_count": 83,
      "metadata": {},
      "outputs": [
        {
          "data": {
            "text/plain": [
              "AIRCRAFT_TYPE\n",
              "614    101837\n",
              "694     76049\n",
              "673     57209\n",
              "838     53921\n",
              "612     49528\n",
              "        ...  \n",
              "716        11\n",
              "31          6\n",
              "616         5\n",
              "117         2\n",
              "418         2\n",
              "Name: count, Length: 146, dtype: int64"
            ]
          },
          "execution_count": 83,
          "metadata": {},
          "output_type": "execute_result"
        }
      ],
      "source": [
        "flight_data[\"AIRCRAFT_TYPE\"].value_counts()"
      ]
    },
    {
      "cell_type": "code",
      "execution_count": 84,
      "metadata": {},
      "outputs": [
        {
          "data": {
            "text/plain": [
              "array([626, 622, 622, ..., 416,  79,  79])"
            ]
          },
          "execution_count": 84,
          "metadata": {},
          "output_type": "execute_result"
        }
      ],
      "source": [
        "flight_data[\"AIRCRAFT_TYPE\"].values"
      ]
    },
    {
      "cell_type": "code",
      "execution_count": 85,
      "metadata": {},
      "outputs": [
        {
          "data": {
            "text/plain": [
              "<Axes: xlabel='AIRCRAFT_TYPE', ylabel='CORR'>"
            ]
          },
          "execution_count": 85,
          "metadata": {},
          "output_type": "execute_result"
        },
        {
          "data": {
            "image/png": "[encoded data removed]",
            "text/plain": [
              "<Figure size 640x480 with 1 Axes>"
            ]
          },
          "metadata": {},
          "output_type": "display_data"
        }
      ],
      "source": [
        "# this would be fun to optimize\n",
        "aircrafts = list()\n",
        "for aircraft in flight_data[\"AIRCRAFT_TYPE\"].unique():\n",
        "    aircraft_data = flight_data[flight_data[\"AIRCRAFT_TYPE\"] == aircraft]\n",
        "    corr_matrix = aircraft_data[[\"DISTANCE\", \"AIR_TIME\"]].corr()\n",
        "    aircrafts.append((aircraft, corr_matrix[\"AIR_TIME\"][\"DISTANCE\"]))\n",
        "# bar graph of aircrafts\n",
        "aircrafts = pd.DataFrame(aircrafts, columns=[\"AIRCRAFT_TYPE\", \"CORR\"])\n",
        "seaborn.barplot(x=\"AIRCRAFT_TYPE\", y=\"CORR\", data=aircrafts)"
      ]
    },
    {
      "cell_type": "code",
      "execution_count": 92,
      "metadata": {},
      "outputs": [
        {
          "name": "stderr",
          "output_type": "stream",
          "text": [
            "/Users/bradenqkirk/Documents/classes/neuralnetworks/.venv/lib/python3.12/site-packages/pandas/core/nanops.py:1016: RuntimeWarning: invalid value encountered in subtract\n",
            "  sqr = _ensure_numeric((avg - values) ** 2)\n"
          ]
        },
        {
          "data": {
            "text/plain": [
              "count    8.584530e+05\n",
              "mean              inf\n",
              "std               NaN\n",
              "min      0.000000e+00\n",
              "25%      2.372812e-01\n",
              "50%      7.617978e-01\n",
              "75%      3.157895e+00\n",
              "max               inf\n",
              "Name: VELOCITY, dtype: float64"
            ]
          },
          "execution_count": 92,
          "metadata": {},
          "output_type": "execute_result"
        }
      ],
      "source": [
        "flight_data[\"VELOCITY\"] = flight_data[\"DISTANCE\"] / flight_data[\"AIR_TIME\"]\n",
        "flight_data[\"VELOCITY\"].describe()"
      ]
    },
    {
      "cell_type": "markdown",
      "metadata": {},
      "source": [
        "- inf velocity defies laws of physic Einstein must be wrong."
      ]
    },
    {
      "cell_type": "code",
      "execution_count": 93,
      "metadata": {},
      "outputs": [
        {
          "data": {
            "text/plain": [
              "count    857270.000000\n",
              "mean          2.055003\n",
              "std           2.530341\n",
              "min           0.000000\n",
              "25%           0.237004\n",
              "50%           0.759036\n",
              "75%           3.134146\n",
              "max          15.734940\n",
              "Name: VELOCITY, dtype: float64"
            ]
          },
          "execution_count": 93,
          "metadata": {},
          "output_type": "execute_result"
        }
      ],
      "source": [
        "# remove infinite values\n",
        "flight_data = flight_data[flight_data[\"VELOCITY\"] != float('inf')]\n",
        "flight_data[\"VELOCITY\"].describe()"
      ]
    },
    {
      "cell_type": "markdown",
      "metadata": {},
      "source": [
        "- Some aircrafts are well correlated with distance and others are not\n",
        "- we could categorize these air crafts"
      ]
    },
    {
      "cell_type": "code",
      "execution_count": 95,
      "metadata": {},
      "outputs": [
        {
          "data": {
            "text/plain": [
              "<Axes: xlabel='AIRCRAFT_TYPE', ylabel='CORR'>"
            ]
          },
          "execution_count": 95,
          "metadata": {},
          "output_type": "execute_result"
        },
        {
          "data": {
            "image/png": "[encoded data removed]",
            "text/plain": [
              "<Figure size 640x480 with 1 Axes>"
            ]
          },
          "metadata": {},
          "output_type": "display_data"
        }
      ],
      "source": [
        "aircrafts = list()\n",
        "for aircraft in flight_data[\"AIRCRAFT_TYPE\"].unique():\n",
        "    aircraft_data = flight_data[flight_data[\"AIRCRAFT_TYPE\"] == aircraft]\n",
        "    corr_matrix = aircraft_data[[\"VELOCITY\", \"AIR_TIME\"]].corr()\n",
        "    aircrafts.append((aircraft, corr_matrix[\"AIR_TIME\"][\"VELOCITY\"]))\n",
        "# bar graph of aircrafts\n",
        "aircrafts = pd.DataFrame(aircrafts, columns=[\"AIRCRAFT_TYPE\", \"CORR\"])\n",
        "seaborn.barplot(x=\"AIRCRAFT_TYPE\", y=\"CORR\", data=aircrafts)"
      ]
    },
    {
      "cell_type": "markdown",
      "metadata": {},
      "source": [
        "- most aircrafts go slower the longer the air time"
      ]
    },
    {
      "cell_type": "code",
      "execution_count": 96,
      "metadata": {},
      "outputs": [
        {
          "data": {
            "text/plain": [
              "<Axes: xlabel='AIRCRAFT_TYPE', ylabel='CORR'>"
            ]
          },
          "execution_count": 96,
          "metadata": {},
          "output_type": "execute_result"
        },
        {
          "data": {
            "image/png": "[encoded data removed]",
            "text/plain": [
              "<Figure size 640x480 with 1 Axes>"
            ]
          },
          "metadata": {},
          "output_type": "display_data"
        }
      ],
      "source": [
        "aircrafts = list()\n",
        "for aircraft in flight_data[\"AIRCRAFT_TYPE\"].unique():\n",
        "    aircraft_data = flight_data[flight_data[\"AIRCRAFT_TYPE\"] == aircraft]\n",
        "    corr_matrix = aircraft_data[[\"VELOCITY\", \"DISTANCE\"]].corr()\n",
        "    aircrafts.append((aircraft, corr_matrix[\"DISTANCE\"][\"VELOCITY\"]))\n",
        "# bar graph of aircrafts\n",
        "aircrafts = pd.DataFrame(aircrafts, columns=[\"AIRCRAFT_TYPE\", \"CORR\"])\n",
        "seaborn.barplot(x=\"AIRCRAFT_TYPE\", y=\"CORR\", data=aircrafts)"
      ]
    },
    {
      "cell_type": "markdown",
      "metadata": {},
      "source": [
        "- longer distances are done at faster speeds for most aircrafts"
      ]
    },
    {
      "cell_type": "code",
      "execution_count": 87,
      "metadata": {},
      "outputs": [
        {
          "data": {
            "application/vnd.microsoft.datawrangler.viewer.v0+json": {
              "columns": [
                {
                  "name": "index",
                  "rawType": "int64",
                  "type": "integer"
                },
                {
                  "name": "id",
                  "rawType": "int64",
                  "type": "integer"
                },
                {
                  "name": "reg",
                  "rawType": "object",
                  "type": "string"
                },
                {
                  "name": "active",
                  "rawType": "bool",
                  "type": "boolean"
                },
                {
                  "name": "serial",
                  "rawType": "float64",
                  "type": "float"
                },
                {
                  "name": "hexIcao",
                  "rawType": "object",
                  "type": "string"
                },
                {
                  "name": "airlineName",
                  "rawType": "object",
                  "type": "string"
                },
                {
                  "name": "iataCodeShort",
                  "rawType": "object",
                  "type": "string"
                },
                {
                  "name": "icaoCode",
                  "rawType": "object",
                  "type": "unknown"
                },
                {
                  "name": "model",
                  "rawType": "object",
                  "type": "string"
                },
                {
                  "name": "modelCode",
                  "rawType": "object",
                  "type": "string"
                },
                {
                  "name": "numSeats",
                  "rawType": "float64",
                  "type": "float"
                },
                {
                  "name": "rolloutDate",
                  "rawType": "object",
                  "type": "unknown"
                },
                {
                  "name": "firstFlightDate",
                  "rawType": "object",
                  "type": "unknown"
                },
                {
                  "name": "deliveryDate",
                  "rawType": "object",
                  "type": "string"
                },
                {
                  "name": "registrationDate",
                  "rawType": "object",
                  "type": "string"
                },
                {
                  "name": "typeName",
                  "rawType": "object",
                  "type": "string"
                },
                {
                  "name": "numEngines",
                  "rawType": "float64",
                  "type": "float"
                },
                {
                  "name": "engineType",
                  "rawType": "object",
                  "type": "string"
                },
                {
                  "name": "isFreighter",
                  "rawType": "bool",
                  "type": "boolean"
                },
                {
                  "name": "productionLine",
                  "rawType": "object",
                  "type": "string"
                },
                {
                  "name": "ageYears",
                  "rawType": "float64",
                  "type": "float"
                },
                {
                  "name": "verified",
                  "rawType": "bool",
                  "type": "boolean"
                },
                {
                  "name": "numRegistrations",
                  "rawType": "int64",
                  "type": "integer"
                },
                {
                  "name": "firstRegistrationDate",
                  "rawType": "object",
                  "type": "string"
                }
              ],
              "conversionMethod": "pd.DataFrame",
              "ref": "50535278-8b1e-411a-b1f3-9061f17727aa",
              "rows": [
                [
                  "0",
                  "9724",
                  "N840MH",
                  "True",
                  "29718.0",
                  "AB80F4",
                  "Delta Air Lines",
                  "764",
                  "B764",
                  "B764",
                  "B767-432ER",
                  "238.0",
                  "2001-03-07",
                  "2001-03-07",
                  "2001-05-23",
                  "2001-05-23",
                  "Boeing 767-400",
                  "2.0",
                  "Jet",
                  "False",
                  "Boeing 767",
                  "24.0",
                  "True",
                  "1",
                  "2001-05-23"
                ],
                [
                  "1",
                  "11301",
                  "N857DZ",
                  "True",
                  "31968.0",
                  "ABC1BC",
                  "Delta Air Lines",
                  "737",
                  null,
                  "B739",
                  "B737-932ER",
                  null,
                  "2016-03-25",
                  "2016-03-25",
                  "2016-04-07",
                  "2016-04-07",
                  "Boeing 737",
                  "2.0",
                  "Jet",
                  "False",
                  "Boeing 737",
                  "9.0",
                  "True",
                  "1",
                  "2016-04-07"
                ],
                [
                  "2",
                  "2118392",
                  "N432QX",
                  "False",
                  "4166.0",
                  "A52C00",
                  "Horizon Air",
                  "DH4",
                  "DH8D",
                  "DHC8",
                  "DHC-8 402",
                  "76.0",
                  null,
                  null,
                  "2007-07-31",
                  "2007-07-31",
                  "De Havilland Canada DHC-8-400 Dash 8Q",
                  "2.0",
                  "Turboprop",
                  "False",
                  "Bombardier DHC-8",
                  "17.6",
                  "True",
                  "1",
                  "2007-07-31"
                ],
                [
                  "3",
                  "5408",
                  "N591JB",
                  "True",
                  "2246.0",
                  "A7A1E8",
                  "JetBlue Airways",
                  "320",
                  "A320",
                  "A320",
                  "320-232",
                  "162.0",
                  "2004-06-23",
                  "2004-06-23",
                  "2004-08-04",
                  "2004-08-04",
                  "Airbus A320",
                  "2.0",
                  "Jet",
                  "False",
                  "Airbus A320",
                  "20.7",
                  "True",
                  "1",
                  "2004-08-04"
                ],
                [
                  "4",
                  "10821",
                  "N317AS",
                  "True",
                  "30856.0",
                  "A360E3",
                  "Alaska Airlines",
                  "739",
                  "B739",
                  "B739",
                  "B737-990",
                  null,
                  "2003-03-06",
                  "2003-03-06",
                  "2003-03-26",
                  "2003-03-26",
                  "Boeing 737-900",
                  "2.0",
                  "Jet",
                  "False",
                  "Boeing 737 NG",
                  "22.0",
                  "True",
                  "1",
                  "2003-03-26"
                ]
              ],
              "shape": {
                "columns": 24,
                "rows": 5
              }
            },
            "text/html": [
              "<div>\n",
              "<style scoped>\n",
              "    .dataframe tbody tr th:only-of-type {\n",
              "        vertical-align: middle;\n",
              "    }\n",
              "\n",
              "    .dataframe tbody tr th {\n",
              "        vertical-align: top;\n",
              "    }\n",
              "\n",
              "    .dataframe thead th {\n",
              "        text-align: right;\n",
              "    }\n",
              "</style>\n",
              "<table border=\"1\" class=\"dataframe\">\n",
              "  <thead>\n",
              "    <tr style=\"text-align: right;\">\n",
              "      <th></th>\n",
              "      <th>id</th>\n",
              "      <th>reg</th>\n",
              "      <th>active</th>\n",
              "      <th>serial</th>\n",
              "      <th>hexIcao</th>\n",
              "      <th>airlineName</th>\n",
              "      <th>iataCodeShort</th>\n",
              "      <th>icaoCode</th>\n",
              "      <th>model</th>\n",
              "      <th>modelCode</th>\n",
              "      <th>...</th>\n",
              "      <th>registrationDate</th>\n",
              "      <th>typeName</th>\n",
              "      <th>numEngines</th>\n",
              "      <th>engineType</th>\n",
              "      <th>isFreighter</th>\n",
              "      <th>productionLine</th>\n",
              "      <th>ageYears</th>\n",
              "      <th>verified</th>\n",
              "      <th>numRegistrations</th>\n",
              "      <th>firstRegistrationDate</th>\n",
              "    </tr>\n",
              "  </thead>\n",
              "  <tbody>\n",
              "    <tr>\n",
              "      <th>0</th>\n",
              "      <td>9724</td>\n",
              "      <td>N840MH</td>\n",
              "      <td>True</td>\n",
              "      <td>29718.0</td>\n",
              "      <td>AB80F4</td>\n",
              "      <td>Delta Air Lines</td>\n",
              "      <td>764</td>\n",
              "      <td>B764</td>\n",
              "      <td>B764</td>\n",
              "      <td>B767-432ER</td>\n",
              "      <td>...</td>\n",
              "      <td>2001-05-23</td>\n",
              "      <td>Boeing 767-400</td>\n",
              "      <td>2.0</td>\n",
              "      <td>Jet</td>\n",
              "      <td>False</td>\n",
              "      <td>Boeing 767</td>\n",
              "      <td>24.0</td>\n",
              "      <td>True</td>\n",
              "      <td>1</td>\n",
              "      <td>2001-05-23</td>\n",
              "    </tr>\n",
              "    <tr>\n",
              "      <th>1</th>\n",
              "      <td>11301</td>\n",
              "      <td>N857DZ</td>\n",
              "      <td>True</td>\n",
              "      <td>31968.0</td>\n",
              "      <td>ABC1BC</td>\n",
              "      <td>Delta Air Lines</td>\n",
              "      <td>737</td>\n",
              "      <td>NaN</td>\n",
              "      <td>B739</td>\n",
              "      <td>B737-932ER</td>\n",
              "      <td>...</td>\n",
              "      <td>2016-04-07</td>\n",
              "      <td>Boeing 737</td>\n",
              "      <td>2.0</td>\n",
              "      <td>Jet</td>\n",
              "      <td>False</td>\n",
              "      <td>Boeing 737</td>\n",
              "      <td>9.0</td>\n",
              "      <td>True</td>\n",
              "      <td>1</td>\n",
              "      <td>2016-04-07</td>\n",
              "    </tr>\n",
              "    <tr>\n",
              "      <th>2</th>\n",
              "      <td>2118392</td>\n",
              "      <td>N432QX</td>\n",
              "      <td>False</td>\n",
              "      <td>4166.0</td>\n",
              "      <td>A52C00</td>\n",
              "      <td>Horizon Air</td>\n",
              "      <td>DH4</td>\n",
              "      <td>DH8D</td>\n",
              "      <td>DHC8</td>\n",
              "      <td>DHC-8 402</td>\n",
              "      <td>...</td>\n",
              "      <td>2007-07-31</td>\n",
              "      <td>De Havilland Canada DHC-8-400 Dash 8Q</td>\n",
              "      <td>2.0</td>\n",
              "      <td>Turboprop</td>\n",
              "      <td>False</td>\n",
              "      <td>Bombardier DHC-8</td>\n",
              "      <td>17.6</td>\n",
              "      <td>True</td>\n",
              "      <td>1</td>\n",
              "      <td>2007-07-31</td>\n",
              "    </tr>\n",
              "    <tr>\n",
              "      <th>3</th>\n",
              "      <td>5408</td>\n",
              "      <td>N591JB</td>\n",
              "      <td>True</td>\n",
              "      <td>2246.0</td>\n",
              "      <td>A7A1E8</td>\n",
              "      <td>JetBlue Airways</td>\n",
              "      <td>320</td>\n",
              "      <td>A320</td>\n",
              "      <td>A320</td>\n",
              "      <td>320-232</td>\n",
              "      <td>...</td>\n",
              "      <td>2004-08-04</td>\n",
              "      <td>Airbus A320</td>\n",
              "      <td>2.0</td>\n",
              "      <td>Jet</td>\n",
              "      <td>False</td>\n",
              "      <td>Airbus A320</td>\n",
              "      <td>20.7</td>\n",
              "      <td>True</td>\n",
              "      <td>1</td>\n",
              "      <td>2004-08-04</td>\n",
              "    </tr>\n",
              "    <tr>\n",
              "      <th>4</th>\n",
              "      <td>10821</td>\n",
              "      <td>N317AS</td>\n",
              "      <td>True</td>\n",
              "      <td>30856.0</td>\n",
              "      <td>A360E3</td>\n",
              "      <td>Alaska Airlines</td>\n",
              "      <td>739</td>\n",
              "      <td>B739</td>\n",
              "      <td>B739</td>\n",
              "      <td>B737-990</td>\n",
              "      <td>...</td>\n",
              "      <td>2003-03-26</td>\n",
              "      <td>Boeing 737-900</td>\n",
              "      <td>2.0</td>\n",
              "      <td>Jet</td>\n",
              "      <td>False</td>\n",
              "      <td>Boeing 737 NG</td>\n",
              "      <td>22.0</td>\n",
              "      <td>True</td>\n",
              "      <td>1</td>\n",
              "      <td>2003-03-26</td>\n",
              "    </tr>\n",
              "  </tbody>\n",
              "</table>\n",
              "<p>5 rows × 24 columns</p>\n",
              "</div>"
            ],
            "text/plain": [
              "        id     reg  active   serial hexIcao      airlineName iataCodeShort  \\\n",
              "0     9724  N840MH    True  29718.0  AB80F4  Delta Air Lines           764   \n",
              "1    11301  N857DZ    True  31968.0  ABC1BC  Delta Air Lines           737   \n",
              "2  2118392  N432QX   False   4166.0  A52C00      Horizon Air           DH4   \n",
              "3     5408  N591JB    True   2246.0  A7A1E8  JetBlue Airways           320   \n",
              "4    10821  N317AS    True  30856.0  A360E3  Alaska Airlines           739   \n",
              "\n",
              "  icaoCode model   modelCode  ...  registrationDate  \\\n",
              "0     B764  B764  B767-432ER  ...        2001-05-23   \n",
              "1      NaN  B739  B737-932ER  ...        2016-04-07   \n",
              "2     DH8D  DHC8   DHC-8 402  ...        2007-07-31   \n",
              "3     A320  A320     320-232  ...        2004-08-04   \n",
              "4     B739  B739    B737-990  ...        2003-03-26   \n",
              "\n",
              "                                typeName numEngines engineType isFreighter  \\\n",
              "0                         Boeing 767-400        2.0        Jet       False   \n",
              "1                             Boeing 737        2.0        Jet       False   \n",
              "2  De Havilland Canada DHC-8-400 Dash 8Q        2.0  Turboprop       False   \n",
              "3                            Airbus A320        2.0        Jet       False   \n",
              "4                         Boeing 737-900        2.0        Jet       False   \n",
              "\n",
              "     productionLine  ageYears verified  numRegistrations firstRegistrationDate  \n",
              "0        Boeing 767      24.0     True                 1            2001-05-23  \n",
              "1        Boeing 737       9.0     True                 1            2016-04-07  \n",
              "2  Bombardier DHC-8      17.6     True                 1            2007-07-31  \n",
              "3       Airbus A320      20.7     True                 1            2004-08-04  \n",
              "4     Boeing 737 NG      22.0     True                 1            2003-03-26  \n",
              "\n",
              "[5 rows x 24 columns]"
            ]
          },
          "execution_count": 87,
          "metadata": {},
          "output_type": "execute_result"
        }
      ],
      "source": [
        "plane_data = read_aircraft_data()\n",
        "plane_data.head()"
      ]
    },
    {
      "cell_type": "code",
      "execution_count": 88,
      "metadata": {},
      "outputs": [
        {
          "data": {
            "text/plain": [
              "50"
            ]
          },
          "execution_count": 88,
          "metadata": {},
          "output_type": "execute_result"
        }
      ],
      "source": [
        "(plane_data['id'].value_counts() == 2).sum() # a few double entries"
      ]
    },
    {
      "cell_type": "code",
      "execution_count": 89,
      "metadata": {},
      "outputs": [
        {
          "data": {
            "text/plain": [
              "<Axes: >"
            ]
          },
          "execution_count": 89,
          "metadata": {},
          "output_type": "execute_result"
        },
        {
          "data": {
            "image/png": "[encoded data removed]",
            "text/plain": [
              "<Figure size 640x480 with 1 Axes>"
            ]
          },
          "metadata": {},
          "output_type": "display_data"
        }
      ],
      "source": [
        "age_data = plane_data[plane_data['ageYears'] < 500]\n",
        "age_data['ageYears'].hist(bins=50)"
      ]
    },
    {
      "cell_type": "code",
      "execution_count": 90,
      "metadata": {},
      "outputs": [
        {
          "data": {
            "text/plain": [
              "array([[<Axes: title={'center': 'id'}>,\n",
              "        <Axes: title={'center': 'serial'}>],\n",
              "       [<Axes: title={'center': 'numSeats'}>,\n",
              "        <Axes: title={'center': 'numEngines'}>],\n",
              "       [<Axes: title={'center': 'ageYears'}>,\n",
              "        <Axes: title={'center': 'numRegistrations'}>]], dtype=object)"
            ]
          },
          "execution_count": 90,
          "metadata": {},
          "output_type": "execute_result"
        },
        {
          "data": {
            "image/png": "[encoded data removed]",
            "text/plain": [
              "<Figure size 640x480 with 6 Axes>"
            ]
          },
          "metadata": {},
          "output_type": "display_data"
        }
      ],
      "source": [
        "# bar chart on airlineName frequency\n",
        "plane_data[plane_data['numSeats'] < 500].hist(bins=100)"
      ]
    },
    {
      "cell_type": "markdown",
      "metadata": {},
      "source": [
        "Individual Attributes\n",
        "=====================\n",
        "\\* Dervived from the other features\n",
        "\n",
        "Air Crafts\n",
        "----------\n",
        "| Attribute             | Type        | Missing | Noise | Use  | Distribution             |\n",
        "| --------------------- | ----------- | ------- | ----- | ---- | ------------------------ |\n",
        "| id                    | Text        | None    | None  |      | Unique except 50 doubles |\n",
        "| reg                   | Text        | None    | None  |      | Unique                   |\n",
        "| active                | Boolean     | None    | None  |      | 93% true                 |\n",
        "| serial                | Text        | 14      | None  |      | Unique                   |\n",
        "| hexIcao               | Text        | 32      | None  |      | Unique                   |\n",
        "| airlineName           | Categorical | None    | None  | high | Top heavy                |\n",
        "| iataCodeShort         | Categorical | 2%      | None  |      | Top heavy                |\n",
        "| icaoCode              | Categorical | 7%      | None  |      | Top heavy                |\n",
        "| model                 | Categorical | 3%      | None  |      | Top heavy                |\n",
        "| modelCode             | Categorical | 14      | None  |      | Exponential decay        |\n",
        "| numSeats              | Int         | 34%     | None  |      | Loosely normal           |\n",
        "| rolloutDate           | Date        | 29%     | None  |      | Unique                   |\n",
        "| firstFlightDate       | Date        | 37%     | None  |      |                          |\n",
        "| deliveryDate          | Date        | 17%     | None  |      |                          |\n",
        "| registrationDate      | Date        | 39      | None  |      |                          |\n",
        "| typeName              | Categorical | None    | None  |      | Top heavy                |\n",
        "| numEngines            | Int         | 3%      | None  |      | All but 5 the same       |\n",
        "| engineType            | Categorical | 3%      | None  |      | Nearly all the same      |\n",
        "| isFreighter           | Boolean     | None    | None  |      | 36 Trues                 |\n",
        "| productionLine        | Categorical | 2%      | None  |      | Top heavy                |\n",
        "| ageYears              | Float       | 5%      | .1    |      | Peaks and Valleys        |\n",
        "| verified              | Boolean     | None    | None  |      | 29 false values          |\n",
        "| numRegistrations      | Int         | None    | None  |      | low value top heavy      |\n",
        "| firstRegistrationDate | Date        | 30      | None  |      | Near unique              |\n",
        "\n",
        "Summary of the individual attributes of the weather data. Many more details are available in the analysis in the subsequent cells.\n",
        "\n",
        "| Attribute | Type | Missing | Noise | Usefulness | Distribution |\n",
        "| --------- | ---- | ------- | ----- | ---------- | ------------ |\n",
        "| value     |      |         |       |            |              |"
      ]
    }
  ],
  "metadata": {
    "colab": {
      "name": "PROJ2 - Early Spring",
      "provenance": [],
      "version": "0.3.2"
    },
    "kernelspec": {
      "display_name": ".venv",
      "language": "python",
      "name": "python3"
    },
    "language_info": {
      "codemirror_mode": {
        "name": "ipython",
        "version": 3
      },
      "file_extension": ".py",
      "mimetype": "text/x-python",
      "name": "python",
      "nbconvert_exporter": "python",
      "pygments_lexer": "ipython3",
      "version": "3.12.6"
    }
  },
  "nbformat": 4,
  "nbformat_minor": 0
}
