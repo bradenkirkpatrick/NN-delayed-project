{
  "cells": [
    {
      "cell_type": "markdown",
      "metadata": {
        "colab_type": "text",
        "id": "zqJqmZ_GHf63"
      },
      "source": [
        "# Will it be delayed?\n",
        "\n",
        "Everyone who has flown has experienced a delayed or cancelled flight. Both airlines and airports would like to improve their on-time performance and predict when a flight will be delayed or cancelled several days in advance. You are being hired to build a model that can predict if a flight will be delayed. To learn more, you must schedule a meeting with your client (me). To schedule an appointment with your client, send an event request through Google Calendar for a 15 minute meeting. Both you and your project partner must attend the meeting. Come prepared with questions to ask your client. Remember that your client is not a data scientist and you will need to explain things in a way that is easy to understand. Make sure that your communications are efficient, thought out, and not redundant as your client might get frustrated and \"fire\" you (this only applies to getting information from your client, this does not necessary apply to asking for help with the actual project itself - you should continuously ask questions for getting help).\n",
        "\n",
        "For this project you must go through most all steps in the checklist. You must write responses for all items as done in the homeworks, however sometimes the item will simply be \"does not apply\". Keep your progress and thoughts organized in this document and use formatting as appropriate (using markdown to add headers and sub-headers for each major part). Some changes to the checklist:\n",
        "\n",
        "* Do not do the final part (launching the product).\n",
        "* Your presentation will be done as information written in this document in a dedicated section (no slides or anything like that). It should include high-level summary of your results (including what you learned about the data, the \"accuracy\" of your model, what features were important, etc). It should be written for your client, not your professor or teammates. It should include the best summary plots/graphics/data points.\n",
        "* The models and hyperparameters you should consider during short-listing and fine-tuning will be released at a later time (dependent on how far we get over the next two weeks).\n",
        "* Data retrieval must be automatic as part of the code (so it can easily be re-run and grab the latest data). Do not commit any data to the repository.\n",
        "* Your submission must include a pickled final model along with this notebook."
      ]
    },
    {
      "cell_type": "markdown",
      "metadata": {},
      "source": [
        "# Frame The Problem"
      ]
    },
    {
      "cell_type": "markdown",
      "metadata": {},
      "source": [
        "1. **Define the objective in business terms.**\n",
        "- The objective is to predict if a flight will be delayed or cancelled seven days in advance whether that be due to weather, mechanical issues, or other reasons. This will allow airlines and airports to better plan for the future and roll out delay or cancellation alerts to passengers more efficiently.\n",
        "2. **How will your solution be used?**\n",
        "- Our solution will be used to predict if a flight will be delayed or cancelled seven days in advance. This will allow airlines and airports to better plan for the future and roll out delay or cancellation alerts to passengers more efficiently.\n",
        "3. **What are the current solutions/workarounds (if any)?**\n",
        "- Currently, airlines and airports do not have a way to predict if a flight will be delayed or cancelled seven days in advance. They can only predict if a flight will be delayed or cancelled a few hours in advance.\n",
        "4. **How should you frame this problem (supervised/unsupervised, online/offline, ...)?**\n",
        "- This problem should be framed as a supervised learning problem. We will use historical data to predict if a flight will be delayed or cancelled seven days in advance. We will use a batch learning system to train the model as the system will be updated quarterly.\n",
        "5. **How should performance be measured? Is the performance measure aligned with the business objective?**\n",
        "- Performance should be measured using the precision score. As the client stated they would like to accurately predict if a flight will be delayed or cancelled seven days in advance as to not inconvenience or frustrate passengers. The precision score is aligned with the business objective as it measures the number of actual positive cases that were correctly predicted as positive. To mitigate the risk of false positives, the precision score will be used as it aligns with the business objective and the client's needs.\n",
        "6. **What would be the minimum performance needed to reach the business objective?**\n",
        "- As per the client the minimum peroformance needed to reach the business objective is 25%. As they currently do not have a way to predict if a flight will be delayed or cancelled seven days in advance, any improvement on the current system would be beneficial.\n",
        "7. **What are comparable problems? Can you reuse experience or tools?**\n",
        "- A comparable problem I have worked with was in the AWS machine learning challenge lab where the mock client wanted to create a feature to let customers know if the flight will be delayed because of weather when they book a flight to or from the busiest airports for domestic travel in the US.\n",
        "- There are tools and experience that can be reused that I have used in past homework assignments as well as the methods used in the AWS machine learning challenge lab to analyze the data.\n",
        "8. **Is human expertise available?**\n",
        "- No, human expertise is not available as the client is knowledgeable about the problem but does not thoroughly know the data being provided. But, my professor is knowledgeable in this area and can provide guidance and help if needed.\n",
        "9. **How would you solve the problem manually?**\n",
        "- To solve the problem manually, I would look at the historical data and see if there are any patterns or trends that can be used to predict if a flight will be delayed or cancelled seven days in advance. Finding as many patterns or trends as possible would be beneficial to predict if a flight will be delayed or cancelled as there could be multiple reasons why a flight would be delayed or cancelled. Although, it must be noted that real-time issues such as mechanical issues or staffing issus would be impossible to predict in advance. Although, a general trend could be found to imply a potential delay or cancellation due to these issues.\n",
        "10. **List the assumptions you (or others) have made so far. Verify assumptions if possible.**"
      ]
    },
    {
      "cell_type": "markdown",
      "metadata": {},
      "source": [
        "- bureau of transportation statistics\n",
        "- carrier issues \n",
        "- extreme weather\n",
        "- airport wind issues\n",
        "- security or tsa\n",
        "- late arrival (delay only)\n",
        "* holidays\n",
        "* weather\n",
        "* don't consider diverted flight data\n",
        "- no international fights\n",
        "- size of airlines\n",
        "- small airlines important\n",
        "- make sure air crafts of an N to start the planes id\n",
        "- seasonal and holiday travel"
      ]
    },
    {
      "cell_type": "code",
      "execution_count": 17,
      "metadata": {},
      "outputs": [],
      "source": [
        "import requests\n",
        "from bs4 import BeautifulSoup\n",
        "import pandas as pd"
      ]
    },
    {
      "cell_type": "code",
      "execution_count": null,
      "metadata": {},
      "outputs": [],
      "source": [
        "# aircraft data read csv\n",
        "def read_aircraft_data():\n",
        "    return pd.read_csv('aircrafts.csv')\n",
        "\n",
        "def get_el_nino_data():\n",
        "    url = 'https://psl.noaa.gov/data/correlation/nina4.data'\n",
        "    response = requests.get(url)\n",
        "    soup = BeautifulSoup(response.text, 'html.parser')\n",
        "    data = soup.text.split('\\n')\n",
        "    data = data[3:-4]\n",
        "    data = [i.split() for i in data]\n",
        "    df = pd.DataFrame(data, columns=['Year', 'Jan', 'Feb', 'Mar', 'Apr', 'May', 'Jun', 'Jul', 'Aug', 'Sep', 'Oct', 'Nov', 'Dec'])\n",
        "    df = df.replace('-99.99', 'NaN')\n",
        "    df.to_csv('nina4.csv', index=False)\n",
        "    return pd.read_csv('elnino.csv')"
      ]
    },
    {
      "cell_type": "code",
      "execution_count": 20,
      "metadata": {},
      "outputs": [
        {
          "data": {
            "application/vnd.microsoft.datawrangler.viewer.v0+json": {
              "columns": [
                {
                  "name": "index",
                  "rawType": "int64",
                  "type": "integer"
                },
                {
                  "name": "id",
                  "rawType": "int64",
                  "type": "integer"
                },
                {
                  "name": "reg",
                  "rawType": "object",
                  "type": "string"
                },
                {
                  "name": "active",
                  "rawType": "bool",
                  "type": "boolean"
                },
                {
                  "name": "serial",
                  "rawType": "float64",
                  "type": "float"
                },
                {
                  "name": "hexIcao",
                  "rawType": "object",
                  "type": "string"
                },
                {
                  "name": "airlineName",
                  "rawType": "object",
                  "type": "string"
                },
                {
                  "name": "iataCodeShort",
                  "rawType": "object",
                  "type": "string"
                },
                {
                  "name": "icaoCode",
                  "rawType": "object",
                  "type": "unknown"
                },
                {
                  "name": "model",
                  "rawType": "object",
                  "type": "string"
                },
                {
                  "name": "modelCode",
                  "rawType": "object",
                  "type": "string"
                },
                {
                  "name": "numSeats",
                  "rawType": "float64",
                  "type": "float"
                },
                {
                  "name": "rolloutDate",
                  "rawType": "object",
                  "type": "unknown"
                },
                {
                  "name": "firstFlightDate",
                  "rawType": "object",
                  "type": "unknown"
                },
                {
                  "name": "deliveryDate",
                  "rawType": "object",
                  "type": "string"
                },
                {
                  "name": "registrationDate",
                  "rawType": "object",
                  "type": "string"
                },
                {
                  "name": "typeName",
                  "rawType": "object",
                  "type": "string"
                },
                {
                  "name": "numEngines",
                  "rawType": "float64",
                  "type": "float"
                },
                {
                  "name": "engineType",
                  "rawType": "object",
                  "type": "string"
                },
                {
                  "name": "isFreighter",
                  "rawType": "bool",
                  "type": "boolean"
                },
                {
                  "name": "productionLine",
                  "rawType": "object",
                  "type": "string"
                },
                {
                  "name": "ageYears",
                  "rawType": "float64",
                  "type": "float"
                },
                {
                  "name": "verified",
                  "rawType": "bool",
                  "type": "boolean"
                },
                {
                  "name": "numRegistrations",
                  "rawType": "int64",
                  "type": "integer"
                },
                {
                  "name": "firstRegistrationDate",
                  "rawType": "object",
                  "type": "string"
                }
              ],
              "conversionMethod": "pd.DataFrame",
              "ref": "f75dea7b-6900-4945-8e3c-6b25c13297b9",
              "rows": [
                [
                  "0",
                  "9724",
                  "N840MH",
                  "True",
                  "29718.0",
                  "AB80F4",
                  "Delta Air Lines",
                  "764",
                  "B764",
                  "B764",
                  "B767-432ER",
                  "238.0",
                  "2001-03-07",
                  "2001-03-07",
                  "2001-05-23",
                  "2001-05-23",
                  "Boeing 767-400",
                  "2.0",
                  "Jet",
                  "False",
                  "Boeing 767",
                  "24.0",
                  "True",
                  "1",
                  "2001-05-23"
                ],
                [
                  "1",
                  "11301",
                  "N857DZ",
                  "True",
                  "31968.0",
                  "ABC1BC",
                  "Delta Air Lines",
                  "737",
                  null,
                  "B739",
                  "B737-932ER",
                  null,
                  "2016-03-25",
                  "2016-03-25",
                  "2016-04-07",
                  "2016-04-07",
                  "Boeing 737",
                  "2.0",
                  "Jet",
                  "False",
                  "Boeing 737",
                  "9.0",
                  "True",
                  "1",
                  "2016-04-07"
                ],
                [
                  "2",
                  "2118392",
                  "N432QX",
                  "False",
                  "4166.0",
                  "A52C00",
                  "Horizon Air",
                  "DH4",
                  "DH8D",
                  "DHC8",
                  "DHC-8 402",
                  "76.0",
                  null,
                  null,
                  "2007-07-31",
                  "2007-07-31",
                  "De Havilland Canada DHC-8-400 Dash 8Q",
                  "2.0",
                  "Turboprop",
                  "False",
                  "Bombardier DHC-8",
                  "17.6",
                  "True",
                  "1",
                  "2007-07-31"
                ],
                [
                  "3",
                  "5408",
                  "N591JB",
                  "True",
                  "2246.0",
                  "A7A1E8",
                  "JetBlue Airways",
                  "320",
                  "A320",
                  "A320",
                  "320-232",
                  "162.0",
                  "2004-06-23",
                  "2004-06-23",
                  "2004-08-04",
                  "2004-08-04",
                  "Airbus A320",
                  "2.0",
                  "Jet",
                  "False",
                  "Airbus A320",
                  "20.7",
                  "True",
                  "1",
                  "2004-08-04"
                ],
                [
                  "4",
                  "10821",
                  "N317AS",
                  "True",
                  "30856.0",
                  "A360E3",
                  "Alaska Airlines",
                  "739",
                  "B739",
                  "B739",
                  "B737-990",
                  null,
                  "2003-03-06",
                  "2003-03-06",
                  "2003-03-26",
                  "2003-03-26",
                  "Boeing 737-900",
                  "2.0",
                  "Jet",
                  "False",
                  "Boeing 737 NG",
                  "22.0",
                  "True",
                  "1",
                  "2003-03-26"
                ]
              ],
              "shape": {
                "columns": 24,
                "rows": 5
              }
            },
            "text/html": [
              "<div>\n",
              "<style scoped>\n",
              "    .dataframe tbody tr th:only-of-type {\n",
              "        vertical-align: middle;\n",
              "    }\n",
              "\n",
              "    .dataframe tbody tr th {\n",
              "        vertical-align: top;\n",
              "    }\n",
              "\n",
              "    .dataframe thead th {\n",
              "        text-align: right;\n",
              "    }\n",
              "</style>\n",
              "<table border=\"1\" class=\"dataframe\">\n",
              "  <thead>\n",
              "    <tr style=\"text-align: right;\">\n",
              "      <th></th>\n",
              "      <th>id</th>\n",
              "      <th>reg</th>\n",
              "      <th>active</th>\n",
              "      <th>serial</th>\n",
              "      <th>hexIcao</th>\n",
              "      <th>airlineName</th>\n",
              "      <th>iataCodeShort</th>\n",
              "      <th>icaoCode</th>\n",
              "      <th>model</th>\n",
              "      <th>modelCode</th>\n",
              "      <th>...</th>\n",
              "      <th>registrationDate</th>\n",
              "      <th>typeName</th>\n",
              "      <th>numEngines</th>\n",
              "      <th>engineType</th>\n",
              "      <th>isFreighter</th>\n",
              "      <th>productionLine</th>\n",
              "      <th>ageYears</th>\n",
              "      <th>verified</th>\n",
              "      <th>numRegistrations</th>\n",
              "      <th>firstRegistrationDate</th>\n",
              "    </tr>\n",
              "  </thead>\n",
              "  <tbody>\n",
              "    <tr>\n",
              "      <th>0</th>\n",
              "      <td>9724</td>\n",
              "      <td>N840MH</td>\n",
              "      <td>True</td>\n",
              "      <td>29718.0</td>\n",
              "      <td>AB80F4</td>\n",
              "      <td>Delta Air Lines</td>\n",
              "      <td>764</td>\n",
              "      <td>B764</td>\n",
              "      <td>B764</td>\n",
              "      <td>B767-432ER</td>\n",
              "      <td>...</td>\n",
              "      <td>2001-05-23</td>\n",
              "      <td>Boeing 767-400</td>\n",
              "      <td>2.0</td>\n",
              "      <td>Jet</td>\n",
              "      <td>False</td>\n",
              "      <td>Boeing 767</td>\n",
              "      <td>24.0</td>\n",
              "      <td>True</td>\n",
              "      <td>1</td>\n",
              "      <td>2001-05-23</td>\n",
              "    </tr>\n",
              "    <tr>\n",
              "      <th>1</th>\n",
              "      <td>11301</td>\n",
              "      <td>N857DZ</td>\n",
              "      <td>True</td>\n",
              "      <td>31968.0</td>\n",
              "      <td>ABC1BC</td>\n",
              "      <td>Delta Air Lines</td>\n",
              "      <td>737</td>\n",
              "      <td>NaN</td>\n",
              "      <td>B739</td>\n",
              "      <td>B737-932ER</td>\n",
              "      <td>...</td>\n",
              "      <td>2016-04-07</td>\n",
              "      <td>Boeing 737</td>\n",
              "      <td>2.0</td>\n",
              "      <td>Jet</td>\n",
              "      <td>False</td>\n",
              "      <td>Boeing 737</td>\n",
              "      <td>9.0</td>\n",
              "      <td>True</td>\n",
              "      <td>1</td>\n",
              "      <td>2016-04-07</td>\n",
              "    </tr>\n",
              "    <tr>\n",
              "      <th>2</th>\n",
              "      <td>2118392</td>\n",
              "      <td>N432QX</td>\n",
              "      <td>False</td>\n",
              "      <td>4166.0</td>\n",
              "      <td>A52C00</td>\n",
              "      <td>Horizon Air</td>\n",
              "      <td>DH4</td>\n",
              "      <td>DH8D</td>\n",
              "      <td>DHC8</td>\n",
              "      <td>DHC-8 402</td>\n",
              "      <td>...</td>\n",
              "      <td>2007-07-31</td>\n",
              "      <td>De Havilland Canada DHC-8-400 Dash 8Q</td>\n",
              "      <td>2.0</td>\n",
              "      <td>Turboprop</td>\n",
              "      <td>False</td>\n",
              "      <td>Bombardier DHC-8</td>\n",
              "      <td>17.6</td>\n",
              "      <td>True</td>\n",
              "      <td>1</td>\n",
              "      <td>2007-07-31</td>\n",
              "    </tr>\n",
              "    <tr>\n",
              "      <th>3</th>\n",
              "      <td>5408</td>\n",
              "      <td>N591JB</td>\n",
              "      <td>True</td>\n",
              "      <td>2246.0</td>\n",
              "      <td>A7A1E8</td>\n",
              "      <td>JetBlue Airways</td>\n",
              "      <td>320</td>\n",
              "      <td>A320</td>\n",
              "      <td>A320</td>\n",
              "      <td>320-232</td>\n",
              "      <td>...</td>\n",
              "      <td>2004-08-04</td>\n",
              "      <td>Airbus A320</td>\n",
              "      <td>2.0</td>\n",
              "      <td>Jet</td>\n",
              "      <td>False</td>\n",
              "      <td>Airbus A320</td>\n",
              "      <td>20.7</td>\n",
              "      <td>True</td>\n",
              "      <td>1</td>\n",
              "      <td>2004-08-04</td>\n",
              "    </tr>\n",
              "    <tr>\n",
              "      <th>4</th>\n",
              "      <td>10821</td>\n",
              "      <td>N317AS</td>\n",
              "      <td>True</td>\n",
              "      <td>30856.0</td>\n",
              "      <td>A360E3</td>\n",
              "      <td>Alaska Airlines</td>\n",
              "      <td>739</td>\n",
              "      <td>B739</td>\n",
              "      <td>B739</td>\n",
              "      <td>B737-990</td>\n",
              "      <td>...</td>\n",
              "      <td>2003-03-26</td>\n",
              "      <td>Boeing 737-900</td>\n",
              "      <td>2.0</td>\n",
              "      <td>Jet</td>\n",
              "      <td>False</td>\n",
              "      <td>Boeing 737 NG</td>\n",
              "      <td>22.0</td>\n",
              "      <td>True</td>\n",
              "      <td>1</td>\n",
              "      <td>2003-03-26</td>\n",
              "    </tr>\n",
              "  </tbody>\n",
              "</table>\n",
              "<p>5 rows × 24 columns</p>\n",
              "</div>"
            ],
            "text/plain": [
              "        id     reg  active   serial hexIcao      airlineName iataCodeShort  \\\n",
              "0     9724  N840MH    True  29718.0  AB80F4  Delta Air Lines           764   \n",
              "1    11301  N857DZ    True  31968.0  ABC1BC  Delta Air Lines           737   \n",
              "2  2118392  N432QX   False   4166.0  A52C00      Horizon Air           DH4   \n",
              "3     5408  N591JB    True   2246.0  A7A1E8  JetBlue Airways           320   \n",
              "4    10821  N317AS    True  30856.0  A360E3  Alaska Airlines           739   \n",
              "\n",
              "  icaoCode model   modelCode  ...  registrationDate  \\\n",
              "0     B764  B764  B767-432ER  ...        2001-05-23   \n",
              "1      NaN  B739  B737-932ER  ...        2016-04-07   \n",
              "2     DH8D  DHC8   DHC-8 402  ...        2007-07-31   \n",
              "3     A320  A320     320-232  ...        2004-08-04   \n",
              "4     B739  B739    B737-990  ...        2003-03-26   \n",
              "\n",
              "                                typeName numEngines engineType isFreighter  \\\n",
              "0                         Boeing 767-400        2.0        Jet       False   \n",
              "1                             Boeing 737        2.0        Jet       False   \n",
              "2  De Havilland Canada DHC-8-400 Dash 8Q        2.0  Turboprop       False   \n",
              "3                            Airbus A320        2.0        Jet       False   \n",
              "4                         Boeing 737-900        2.0        Jet       False   \n",
              "\n",
              "     productionLine  ageYears verified  numRegistrations firstRegistrationDate  \n",
              "0        Boeing 767      24.0     True                 1            2001-05-23  \n",
              "1        Boeing 737       9.0     True                 1            2016-04-07  \n",
              "2  Bombardier DHC-8      17.6     True                 1            2007-07-31  \n",
              "3       Airbus A320      20.7     True                 1            2004-08-04  \n",
              "4     Boeing 737 NG      22.0     True                 1            2003-03-26  \n",
              "\n",
              "[5 rows x 24 columns]"
            ]
          },
          "execution_count": 20,
          "metadata": {},
          "output_type": "execute_result"
        }
      ],
      "source": [
        "data = read_aircraft_data()\n",
        "data.head()"
      ]
    },
    {
      "cell_type": "code",
      "execution_count": 22,
      "metadata": {},
      "outputs": [
        {
          "name": "stdout",
          "output_type": "stream",
          "text": [
            "<class 'pandas.core.frame.DataFrame'>\n",
            "RangeIndex: 6655 entries, 0 to 6654\n",
            "Data columns (total 24 columns):\n",
            " #   Column                 Non-Null Count  Dtype  \n",
            "---  ------                 --------------  -----  \n",
            " 0   id                     6655 non-null   int64  \n",
            " 1   reg                    6655 non-null   object \n",
            " 2   active                 6655 non-null   bool   \n",
            " 3   serial                 6641 non-null   float64\n",
            " 4   hexIcao                6623 non-null   object \n",
            " 5   airlineName            6655 non-null   object \n",
            " 6   iataCodeShort          6499 non-null   object \n",
            " 7   icaoCode               6188 non-null   object \n",
            " 8   model                  6464 non-null   object \n",
            " 9   modelCode              6641 non-null   object \n",
            " 10  numSeats               4398 non-null   float64\n",
            " 11  rolloutDate            4697 non-null   object \n",
            " 12  firstFlightDate        4192 non-null   object \n",
            " 13  deliveryDate           5497 non-null   object \n",
            " 14  registrationDate       6616 non-null   object \n",
            " 15  typeName               6655 non-null   object \n",
            " 16  numEngines             6471 non-null   float64\n",
            " 17  engineType             6471 non-null   object \n",
            " 18  isFreighter            6655 non-null   bool   \n",
            " 19  productionLine         6499 non-null   object \n",
            " 20  ageYears               6312 non-null   float64\n",
            " 21  verified               6655 non-null   bool   \n",
            " 22  numRegistrations       6655 non-null   int64  \n",
            " 23  firstRegistrationDate  6625 non-null   object \n",
            "dtypes: bool(3), float64(4), int64(2), object(15)\n",
            "memory usage: 1.1+ MB\n"
          ]
        }
      ],
      "source": [
        "data.info()"
      ]
    },
    {
      "cell_type": "code",
      "execution_count": null,
      "metadata": {},
      "outputs": [
        {
          "data": {
            "text/plain": [
              "50"
            ]
          },
          "execution_count": 26,
          "metadata": {},
          "output_type": "execute_result"
        }
      ],
      "source": [
        "(data['id'].value_counts() == 2).sum() # a few double entries"
      ]
    },
    {
      "cell_type": "code",
      "execution_count": 41,
      "metadata": {},
      "outputs": [
        {
          "data": {
            "text/plain": [
              "<Axes: >"
            ]
          },
          "execution_count": 41,
          "metadata": {},
          "output_type": "execute_result"
        },
        {
          "data": {
            "image/png": "[encoded data removed]",
            "text/plain": [
              "<Figure size 640x480 with 1 Axes>"
            ]
          },
          "metadata": {},
          "output_type": "display_data"
        }
      ],
      "source": [
        "age_data = data[data['ageYears'] < 500]\n",
        "age_data['ageYears'].hist(bins=50)"
      ]
    },
    {
      "cell_type": "code",
      "execution_count": 39,
      "metadata": {},
      "outputs": [
        {
          "data": {
            "text/plain": [
              "array([[<Axes: title={'center': 'id'}>,\n",
              "        <Axes: title={'center': 'serial'}>],\n",
              "       [<Axes: title={'center': 'numSeats'}>,\n",
              "        <Axes: title={'center': 'numEngines'}>],\n",
              "       [<Axes: title={'center': 'ageYears'}>,\n",
              "        <Axes: title={'center': 'numRegistrations'}>]], dtype=object)"
            ]
          },
          "execution_count": 39,
          "metadata": {},
          "output_type": "execute_result"
        },
        {
          "data": {
            "image/png": "[encoded data removed]",
            "text/plain": [
              "<Figure size 640x480 with 6 Axes>"
            ]
          },
          "metadata": {},
          "output_type": "display_data"
        }
      ],
      "source": [
        "# bar chart on airlineName frequency\n",
        "data[data['numSeats'] < 500].hist(bins=100)"
      ]
    },
    {
      "cell_type": "markdown",
      "metadata": {},
      "source": [
        "Individual Attributes\n",
        "=====================\n",
        "\\* Dervived from the other features\n",
        "\n",
        "Air Crafts\n",
        "----------\n",
        "| Attribute             | Type        | Missing | Noise | Use  | Distribution             |\n",
        "| --------------------- | ----------- | ------- | ----- | ---- | ------------------------ |\n",
        "| id                    | Text        | None    | None  |      | Unique except 50 doubles |\n",
        "| reg                   | Text        | None    | None  |      | Unique                   |\n",
        "| active                | Boolean     | None    | None  |      | 93% true                 |\n",
        "| serial                | Text        | 14      | None  |      | Unique                   |\n",
        "| hexIcao               | Text        | 32      | None  |      | Unique                   |\n",
        "| airlineName           | Categorical | None    | None  | high | Top heavy                |\n",
        "| iataCodeShort         | Categorical | 2%      | None  |      | Top heavy                |\n",
        "| icaoCode              | Categorical | 7%      | None  |      | Top heavy                |\n",
        "| model                 | Categorical | 3%      | None  |      | Top heavy                |\n",
        "| modelCode             | Categorical | 14      | None  |      | Exponential decay        |\n",
        "| numSeats              | Int         | 34%     | None  |      | Loosely normal           |\n",
        "| rolloutDate           | Date        | 29%     | None  |      | Unique                   |\n",
        "| firstFlightDate       | Date        | 37%     | None  |      |                          |\n",
        "| deliveryDate          | Date        | 17%     | None  |      |                          |\n",
        "| registrationDate      | Date        | 39      | None  |      |                          |\n",
        "| typeName              | Categorical | None    | None  |      | Top heavy                |\n",
        "| numEngines            | Int         | 3%      | None  |      | All but 5 the same       |\n",
        "| engineType            | Categorical | 3%      | None  |      | Nearly all the same      |\n",
        "| isFreighter           | Boolean     | None    | None  |      | 36 Trues                 |\n",
        "| productionLine        | Categorical | 2%      | None  |      | Top heavy                |\n",
        "| ageYears              | Float       | 5%      | .1    |      | Peaks and Valleys        |\n",
        "| verified              | Boolean     | None    | None  |      | 29 false values          |\n",
        "| numRegistrations      | Int         | None    | None  |      | low value top heavy      |\n",
        "| firstRegistrationDate | Date        | 30      | None  |      | Near unique              |\n",
        "\n",
        "Summary of the individual attributes of the weather data. Many more details are available in the analysis in the subsequent cells.\n",
        "\n",
        "| Attribute | Type | Missing | Noise | Usefulness | Distribution |\n",
        "| --------- | ---- | ------- | ----- | ---------- | ------------ |\n",
        "| value     |      |         |       |            |              |"
      ]
    }
  ],
  "metadata": {
    "colab": {
      "name": "PROJ2 - Early Spring",
      "provenance": [],
      "version": "0.3.2"
    },
    "kernelspec": {
      "display_name": ".venv",
      "language": "python",
      "name": "python3"
    },
    "language_info": {
      "codemirror_mode": {
        "name": "ipython",
        "version": 3
      },
      "file_extension": ".py",
      "mimetype": "text/x-python",
      "name": "python",
      "nbconvert_exporter": "python",
      "pygments_lexer": "ipython3",
      "version": "3.12.6"
    }
  },
  "nbformat": 4,
  "nbformat_minor": 0
}
